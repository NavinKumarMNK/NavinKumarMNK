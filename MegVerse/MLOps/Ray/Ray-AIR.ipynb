{
 "cells": [
  {
   "cell_type": "markdown",
   "metadata": {},
   "source": [
    "# **Ray: Parallel & Distributed Computing**"
   ]
  },
  {
   "cell_type": "code",
   "execution_count": 1,
   "metadata": {},
   "outputs": [
    {
     "name": "stdout",
     "output_type": "stream",
     "text": [
      "Author: NavinKumarMNK\n",
      "\n",
      "Python implementation: CPython\n",
      "Python version       : 3.10.8\n",
      "IPython version      : 8.8.0\n",
      "\n",
      "torch: 1.13.1\n",
      "\n"
     ]
    }
   ],
   "source": [
    "%load_ext watermark\n",
    "%watermark -a 'NavinKumarMNK' -v -p torch"
   ]
  },
  {
   "cell_type": "markdown",
   "metadata": {},
   "source": [
    "# **Ray AI Runtime**"
   ]
  },
  {
   "cell_type": "code",
   "execution_count": 2,
   "metadata": {},
   "outputs": [],
   "source": [
    "import ray\n",
    "from pprint import PrettyPrinter\n",
    "\n",
    "pp = PrettyPrinter(indent=4)\n",
    "pprint = pp.pprint"
   ]
  },
  {
   "cell_type": "markdown",
   "metadata": {},
   "source": [
    "## **Ray DataSet**"
   ]
  },
  {
   "cell_type": "code",
   "execution_count": 3,
   "metadata": {},
   "outputs": [
    {
     "name": "stderr",
     "output_type": "stream",
     "text": [
      "2023-02-12 05:56:50,686\tINFO worker.py:1538 -- Started a local Ray instance.\n",
      "2023-02-12 05:56:52,371\tWARNING read_api.py:326 -- ⚠️  The number of blocks in this dataset (1) limits its parallelism to 1 concurrent tasks. This is much less than the number of available CPU slots in the cluster. Use `.repartition(n)` to increase the number of dataset blocks.\n",
      "Read progress: 100%|████████████████████████████| 1/1 [00:00<00:00, 1138.52it/s]\n",
      "Read progress: 100%|████████████████████████████| 1/1 [00:00<00:00, 1126.29it/s]"
     ]
    },
    {
     "name": "stdout",
     "output_type": "stream",
     "text": [
      "Dataset(num_blocks=1, num_rows=217, schema={age: string, mefalsepause: string, tumor-size: string, inv-falsedes: string, falsede-caps: bool, deg-malig: int64, breast: string, breast-quad: string, irradiat: bool, class: string})\n",
      "Dataset(num_blocks=1, num_rows=27, schema={age: string, mefalsepause: string, tumor-size: string, inv-falsedes: string, falsede-caps: bool, deg-malig: int64, breast: string, breast-quad: string, irradiat: bool, class: string})\n",
      "Dataset(num_blocks=1, num_rows=28, schema={age: string, mefalsepause: string, tumor-size: string, inv-falsedes: string, falsede-caps: bool, deg-malig: int64, breast: string, breast-quad: string, irradiat: bool, class: string})\n"
     ]
    },
    {
     "name": "stderr",
     "output_type": "stream",
     "text": [
      "\n"
     ]
    }
   ],
   "source": [
    "dataset = ray.data.read_csv('https://raw.githubusercontent.com/datasets/breast-cancer/master/data/breast-cancer.csv')\n",
    "\n",
    "train_dataset, validation_dataset = dataset.train_test_split(test_size=0.2)\n",
    "validation_dataset, test_dataset = validation_dataset.train_test_split(test_size=0.5)\n",
    "\n",
    "print(train_dataset)\n",
    "print(validation_dataset)\n",
    "print(test_dataset)"
   ]
  },
  {
   "cell_type": "code",
   "execution_count": 6,
   "metadata": {},
   "outputs": [
    {
     "name": "stdout",
     "output_type": "stream",
     "text": [
      "{'age': '40-49', 'mefalsepause': 'premefalse', 'tumor-size': '15-19', 'inv-falsedes': '0-2', 'falsede-caps': True, 'deg-malig': 3, 'breast': 'right', 'breast-quad': 'left_up', 'irradiat': False, 'class': 'recurrence-events'}\n"
     ]
    }
   ],
   "source": [
    "train_dataset.show(1)"
   ]
  },
  {
   "cell_type": "code",
   "execution_count": 79,
   "metadata": {},
   "outputs": [
    {
     "data": {
      "text/plain": [
       "age: string\n",
       "mefalsepause: string\n",
       "tumor-size: string\n",
       "inv-falsedes: string\n",
       "falsede-caps: bool\n",
       "deg-malig: int64\n",
       "breast: string\n",
       "breast-quad: string\n",
       "irradiat: bool\n",
       "class: string"
      ]
     },
     "execution_count": 79,
     "metadata": {},
     "output_type": "execute_result"
    }
   ],
   "source": [
    "train_dataset.schema()"
   ]
  },
  {
   "cell_type": "code",
   "execution_count": 98,
   "metadata": {},
   "outputs": [],
   "source": [
    "from ray.data.preprocessors import *\n",
    "preprocessor = Chain(\n",
    "        SimpleImputer(columns=['falsede-caps'], strategy='constant', fill_value=False),\n",
    "        StandardScaler(columns=[\"deg-malig\"]),\n",
    "        *(LabelEncoder(label_column=col) for col in [\"age\", \"mefalsepause\", \"inv-falsedes\", \"tumor-size\", \"breast\", \"breast-quad\", \"class\"]),\n",
    "    )"
   ]
  },
  {
   "cell_type": "code",
   "execution_count": 99,
   "metadata": {},
   "outputs": [
    {
     "name": "stdout",
     "output_type": "stream",
     "text": [
      "Chain(SimpleImputer(columns=['falsede-caps'], strategy='constant', fill_value=False), StandardScaler(columns=['deg-malig']), LabelEncoder(label_column='age'), LabelEncoder(label_column='mefalsepause'), LabelEncoder(label_column='inv-falsedes'), LabelEncoder(label_column='tumor-size'), LabelEncoder(label_column='breast'), LabelEncoder(label_column='breast-quad'), LabelEncoder(label_column='class'))\n"
     ]
    }
   ],
   "source": [
    "print(preprocessor)"
   ]
  },
  {
   "cell_type": "markdown",
   "metadata": {},
   "source": [
    "## **Ray XGBoost Scale-out**"
   ]
  },
  {
   "cell_type": "code",
   "execution_count": 100,
   "metadata": {
    "scrolled": true
   },
   "outputs": [],
   "source": [
    "from ray.air.config import ScalingConfig\n",
    "try:\n",
    "    from ray.train.xgboost import XGBoostTrainer\n",
    "except ModuleNotFoundError:\n",
    "    !pip install xgboost_ray\n",
    "    from ray.train.xgboost import XGBoostTrainer"
   ]
  },
  {
   "cell_type": "code",
   "execution_count": 101,
   "metadata": {},
   "outputs": [],
   "source": [
    "trainer = XGBoostTrainer(\n",
    "                scaling_config=ScalingConfig(\n",
    "                    num_workers = 2,\n",
    "                    use_gpu=False,\n",
    "                    \n",
    "                ),\n",
    "                label_column = \"class\",\n",
    "                num_boost_round=20,\n",
    "                params={\n",
    "                    'objectie' :  'binary:logistics',\n",
    "                    'eval_metric' : [\"logloss\", \"error\"],                   \n",
    "                    'enable_categorical' : True\n",
    "                },\n",
    "                datasets={\n",
    "                    \"train\" : train_dataset,\n",
    "                    \"valid\" : test_dataset\n",
    "                },\n",
    "                preprocessor = preprocessor,\n",
    "            )\n",
    "           "
   ]
  },
  {
   "cell_type": "code",
   "execution_count": 103,
   "metadata": {},
   "outputs": [
    {
     "data": {
      "text/html": [
       "<div class=\"tuneStatus\">\n",
       "  <div style=\"display: flex;flex-direction: row\">\n",
       "    <div style=\"display: flex;flex-direction: column;\">\n",
       "      <h3>Tune Status</h3>\n",
       "      <table>\n",
       "<tbody>\n",
       "<tr><td>Current time:</td><td>2023-02-12 07:01:58</td></tr>\n",
       "<tr><td>Running for: </td><td>00:00:06.30        </td></tr>\n",
       "<tr><td>Memory:      </td><td>7.1/15.5 GiB       </td></tr>\n",
       "</tbody>\n",
       "</table>\n",
       "    </div>\n",
       "    <div class=\"vDivider\"></div>\n",
       "    <div class=\"systemInfo\">\n",
       "      <h3>System Info</h3>\n",
       "      Using FIFO scheduling algorithm.<br>Resources requested: 0/12 CPUs, 0/1 GPUs, 0.0/6.16 GiB heap, 0.0/3.08 GiB objects (0.0/1.0 accelerator_type:G)\n",
       "    </div>\n",
       "    \n",
       "  </div>\n",
       "  <div class=\"hDivider\"></div>\n",
       "  <div class=\"trialStatus\">\n",
       "    <h3>Trial Status</h3>\n",
       "    <table>\n",
       "<thead>\n",
       "<tr><th>Trial name                </th><th>status    </th><th>loc               </th><th style=\"text-align: right;\">  iter</th><th style=\"text-align: right;\">  total time (s)</th><th style=\"text-align: right;\">  train-logloss</th><th style=\"text-align: right;\">  train-error</th><th style=\"text-align: right;\">  valid-logloss</th></tr>\n",
       "</thead>\n",
       "<tbody>\n",
       "<tr><td>XGBoostTrainer_072df_00000</td><td>TERMINATED</td><td>192.168.1.7:186380</td><td style=\"text-align: right;\">    21</td><td style=\"text-align: right;\">         4.33955</td><td style=\"text-align: right;\">       0.147306</td><td style=\"text-align: right;\">    0.0414747</td><td style=\"text-align: right;\">        1.78638</td></tr>\n",
       "</tbody>\n",
       "</table>\n",
       "  </div>\n",
       "</div>\n",
       "<style>\n",
       ".tuneStatus {\n",
       "  color: var(--jp-ui-font-color1);\n",
       "}\n",
       ".tuneStatus .systemInfo {\n",
       "  display: flex;\n",
       "  flex-direction: column;\n",
       "}\n",
       ".tuneStatus td {\n",
       "  white-space: nowrap;\n",
       "}\n",
       ".tuneStatus .trialStatus {\n",
       "  display: flex;\n",
       "  flex-direction: column;\n",
       "}\n",
       ".tuneStatus h3 {\n",
       "  font-weight: bold;\n",
       "}\n",
       ".tuneStatus .hDivider {\n",
       "  border-bottom-width: var(--jp-border-width);\n",
       "  border-bottom-color: var(--jp-border-color0);\n",
       "  border-bottom-style: solid;\n",
       "}\n",
       ".tuneStatus .vDivider {\n",
       "  border-left-width: var(--jp-border-width);\n",
       "  border-left-color: var(--jp-border-color0);\n",
       "  border-left-style: solid;\n",
       "  margin: 0.5em 1em 0.5em 1em;\n",
       "}\n",
       "</style>\n"
      ],
      "text/plain": [
       "<IPython.core.display.HTML object>"
      ]
     },
     "metadata": {},
     "output_type": "display_data"
    },
    {
     "name": "stderr",
     "output_type": "stream",
     "text": [
      "\u001b[2m\u001b[36m(_RemoteRayXGBoostActor pid=186452)\u001b[0m [07:01:57] task [xgboost.ray]:140490353421728 got new rank 0\n",
      "\u001b[2m\u001b[36m(_RemoteRayXGBoostActor pid=186451)\u001b[0m [07:01:57] task [xgboost.ray]:139633944096064 got new rank 1\n"
     ]
    },
    {
     "data": {
      "text/html": [
       "<div class=\"trialProgress\">\n",
       "  <h3>Trial Progress</h3>\n",
       "  <table>\n",
       "<thead>\n",
       "<tr><th>Trial name                </th><th>date               </th><th>done  </th><th>episodes_total  </th><th>experiment_id                   </th><th style=\"text-align: right;\">  experiment_tag</th><th>hostname     </th><th style=\"text-align: right;\">  iterations_since_restore</th><th>node_ip    </th><th style=\"text-align: right;\">   pid</th><th>should_checkpoint  </th><th style=\"text-align: right;\">  time_since_restore</th><th style=\"text-align: right;\">  time_this_iter_s</th><th style=\"text-align: right;\">  time_total_s</th><th style=\"text-align: right;\">  timestamp</th><th style=\"text-align: right;\">  timesteps_since_restore</th><th>timesteps_total  </th><th style=\"text-align: right;\">  train-error</th><th style=\"text-align: right;\">  train-logloss</th><th style=\"text-align: right;\">  training_iteration</th><th>trial_id   </th><th style=\"text-align: right;\">  valid-error</th><th style=\"text-align: right;\">  valid-logloss</th><th style=\"text-align: right;\">  warmup_time</th></tr>\n",
       "</thead>\n",
       "<tbody>\n",
       "<tr><td>XGBoostTrainer_072df_00000</td><td>2023-02-12_07-01-58</td><td>True  </td><td>                </td><td>b86bab33f73746cf93e7e885552a851c</td><td style=\"text-align: right;\">               0</td><td>NavinKumarMNK</td><td style=\"text-align: right;\">                        21</td><td>192.168.1.7</td><td style=\"text-align: right;\">186380</td><td>True               </td><td style=\"text-align: right;\">             4.33955</td><td style=\"text-align: right;\">          0.699057</td><td style=\"text-align: right;\">       4.33955</td><td style=\"text-align: right;\"> 1676165518</td><td style=\"text-align: right;\">                        0</td><td>                 </td><td style=\"text-align: right;\">    0.0414747</td><td style=\"text-align: right;\">       0.147306</td><td style=\"text-align: right;\">                  21</td><td>072df_00000</td><td style=\"text-align: right;\">         0.25</td><td style=\"text-align: right;\">        1.78638</td><td style=\"text-align: right;\">   0.00866055</td></tr>\n",
       "</tbody>\n",
       "</table>\n",
       "</div>\n",
       "<style>\n",
       ".trialProgress {\n",
       "  display: flex;\n",
       "  flex-direction: column;\n",
       "  color: var(--jp-ui-font-color1);\n",
       "}\n",
       ".trialProgress h3 {\n",
       "  font-weight: bold;\n",
       "}\n",
       ".trialProgress td {\n",
       "  white-space: nowrap;\n",
       "}\n",
       "</style>\n"
      ],
      "text/plain": [
       "<IPython.core.display.HTML object>"
      ]
     },
     "metadata": {},
     "output_type": "display_data"
    },
    {
     "name": "stderr",
     "output_type": "stream",
     "text": [
      "2023-02-12 07:01:59,079\tINFO tune.py:762 -- Total run time: 6.41 seconds (6.30 seconds for the tuning loop).\n"
     ]
    },
    {
     "name": "stdout",
     "output_type": "stream",
     "text": [
      "{'train-logloss': 0.14730555501504702, 'train-error': 0.04147465437788019, 'valid-logloss': 1.7863764529382544, 'valid-error': 0.25, 'time_this_iter_s': 0.6990566253662109, 'should_checkpoint': True, 'done': True, 'timesteps_total': None, 'episodes_total': None, 'training_iteration': 21, 'trial_id': '072df_00000', 'experiment_id': 'b86bab33f73746cf93e7e885552a851c', 'date': '2023-02-12_07-01-58', 'timestamp': 1676165518, 'time_total_s': 4.339545965194702, 'pid': 186380, 'hostname': 'NavinKumarMNK', 'node_ip': '192.168.1.7', 'config': {}, 'time_since_restore': 4.339545965194702, 'timesteps_since_restore': 0, 'iterations_since_restore': 21, 'warmup_time': 0.008660554885864258, 'experiment_tag': '0'}\n"
     ]
    }
   ],
   "source": [
    "model = trainer.fit()\n",
    "print(model.metrics)"
   ]
  },
  {
   "cell_type": "markdown",
   "metadata": {},
   "source": [
    "## **Ray Tune**"
   ]
  },
  {
   "cell_type": "code",
   "execution_count": 104,
   "metadata": {},
   "outputs": [],
   "source": [
    "from ray import tune\n",
    "\n",
    "param_space = {\"params\" : {\n",
    "                \"max_depth\" : tune.randint(1, 9)\n",
    "            }}"
   ]
  },
  {
   "cell_type": "code",
   "execution_count": 106,
   "metadata": {},
   "outputs": [
    {
     "name": "stderr",
     "output_type": "stream",
     "text": [
      "/tmp/ipykernel_160108/3951819624.py:2: UserWarning: Executing `.fit()` may leave less than 20% of CPUs in this cluster for Dataset execution, which can lead to resource contention or hangs. To avoid this, reserve at least 20% of node CPUs for Dataset execution by setting `_max_cpu_fraction_per_node = 0.8` in the Trainer scaling_config. See https://docs.ray.io/en/master/data/dataset-internals.html#datasets-and-tune for more info.\n",
      "  tuner = Tuner (\n"
     ]
    },
    {
     "data": {
      "text/html": [
       "<div class=\"tuneStatus\">\n",
       "  <div style=\"display: flex;flex-direction: row\">\n",
       "    <div style=\"display: flex;flex-direction: column;\">\n",
       "      <h3>Tune Status</h3>\n",
       "      <table>\n",
       "<tbody>\n",
       "<tr><td>Current time:</td><td>2023-02-12 07:02:25</td></tr>\n",
       "<tr><td>Running for: </td><td>00:00:14.74        </td></tr>\n",
       "<tr><td>Memory:      </td><td>6.7/15.5 GiB       </td></tr>\n",
       "</tbody>\n",
       "</table>\n",
       "    </div>\n",
       "    <div class=\"vDivider\"></div>\n",
       "    <div class=\"systemInfo\">\n",
       "      <h3>System Info</h3>\n",
       "      Using FIFO scheduling algorithm.<br>Resources requested: 0/12 CPUs, 0/1 GPUs, 0.0/6.16 GiB heap, 0.0/3.08 GiB objects (0.0/1.0 accelerator_type:G)\n",
       "    </div>\n",
       "    \n",
       "  </div>\n",
       "  <div class=\"hDivider\"></div>\n",
       "  <div class=\"trialStatus\">\n",
       "    <h3>Trial Status</h3>\n",
       "    <table>\n",
       "<thead>\n",
       "<tr><th>Trial name                </th><th>status    </th><th>loc               </th><th style=\"text-align: right;\">  params/max_depth</th><th style=\"text-align: right;\">  iter</th><th style=\"text-align: right;\">  total time (s)</th><th style=\"text-align: right;\">  train-logloss</th><th style=\"text-align: right;\">  train-error</th><th style=\"text-align: right;\">  valid-logloss</th></tr>\n",
       "</thead>\n",
       "<tbody>\n",
       "<tr><td>XGBoostTrainer_11b30_00000</td><td>TERMINATED</td><td>192.168.1.7:186759</td><td style=\"text-align: right;\">                 2</td><td style=\"text-align: right;\">    21</td><td style=\"text-align: right;\">         9.02208</td><td style=\"text-align: right;\">      0.454106 </td><td style=\"text-align: right;\">    0.198157 </td><td style=\"text-align: right;\">       0.551062</td></tr>\n",
       "<tr><td>XGBoostTrainer_11b30_00001</td><td>TERMINATED</td><td>192.168.1.7:186923</td><td style=\"text-align: right;\">                 7</td><td style=\"text-align: right;\">    21</td><td style=\"text-align: right;\">         8.42697</td><td style=\"text-align: right;\">      0.0857333</td><td style=\"text-align: right;\">    0.0184332</td><td style=\"text-align: right;\">       1.94026 </td></tr>\n",
       "<tr><td>XGBoostTrainer_11b30_00002</td><td>TERMINATED</td><td>192.168.1.7:186925</td><td style=\"text-align: right;\">                 1</td><td style=\"text-align: right;\">    21</td><td style=\"text-align: right;\">         8.63722</td><td style=\"text-align: right;\">      0.521009 </td><td style=\"text-align: right;\">    0.253456 </td><td style=\"text-align: right;\">       0.531917</td></tr>\n",
       "<tr><td>XGBoostTrainer_11b30_00003</td><td>TERMINATED</td><td>192.168.1.7:186927</td><td style=\"text-align: right;\">                 4</td><td style=\"text-align: right;\">    21</td><td style=\"text-align: right;\">         9.79514</td><td style=\"text-align: right;\">      0.290872 </td><td style=\"text-align: right;\">    0.119816 </td><td style=\"text-align: right;\">       0.460679</td></tr>\n",
       "<tr><td>XGBoostTrainer_11b30_00004</td><td>TERMINATED</td><td>192.168.1.7:186929</td><td style=\"text-align: right;\">                 1</td><td style=\"text-align: right;\">    21</td><td style=\"text-align: right;\">         9.57499</td><td style=\"text-align: right;\">      0.521009 </td><td style=\"text-align: right;\">    0.253456 </td><td style=\"text-align: right;\">       0.531917</td></tr>\n",
       "</tbody>\n",
       "</table>\n",
       "  </div>\n",
       "</div>\n",
       "<style>\n",
       ".tuneStatus {\n",
       "  color: var(--jp-ui-font-color1);\n",
       "}\n",
       ".tuneStatus .systemInfo {\n",
       "  display: flex;\n",
       "  flex-direction: column;\n",
       "}\n",
       ".tuneStatus td {\n",
       "  white-space: nowrap;\n",
       "}\n",
       ".tuneStatus .trialStatus {\n",
       "  display: flex;\n",
       "  flex-direction: column;\n",
       "}\n",
       ".tuneStatus h3 {\n",
       "  font-weight: bold;\n",
       "}\n",
       ".tuneStatus .hDivider {\n",
       "  border-bottom-width: var(--jp-border-width);\n",
       "  border-bottom-color: var(--jp-border-color0);\n",
       "  border-bottom-style: solid;\n",
       "}\n",
       ".tuneStatus .vDivider {\n",
       "  border-left-width: var(--jp-border-width);\n",
       "  border-left-color: var(--jp-border-color0);\n",
       "  border-left-style: solid;\n",
       "  margin: 0.5em 1em 0.5em 1em;\n",
       "}\n",
       "</style>\n"
      ],
      "text/plain": [
       "<IPython.core.display.HTML object>"
      ]
     },
     "metadata": {},
     "output_type": "display_data"
    },
    {
     "name": "stderr",
     "output_type": "stream",
     "text": [
      "\u001b[2m\u001b[36m(_RemoteRayXGBoostActor pid=187022)\u001b[0m [07:02:16] task [xgboost.ray]:140483418598768 got new rank 0\n",
      "\u001b[2m\u001b[36m(_RemoteRayXGBoostActor pid=187023)\u001b[0m [07:02:16] task [xgboost.ray]:139762663550224 got new rank 1\n"
     ]
    },
    {
     "data": {
      "text/html": [
       "<div class=\"trialProgress\">\n",
       "  <h3>Trial Progress</h3>\n",
       "  <table>\n",
       "<thead>\n",
       "<tr><th>Trial name                </th><th>date               </th><th>done  </th><th>episodes_total  </th><th>experiment_id                   </th><th>experiment_tag  </th><th>hostname     </th><th style=\"text-align: right;\">  iterations_since_restore</th><th>node_ip    </th><th style=\"text-align: right;\">   pid</th><th>should_checkpoint  </th><th style=\"text-align: right;\">  time_since_restore</th><th style=\"text-align: right;\">  time_this_iter_s</th><th style=\"text-align: right;\">  time_total_s</th><th style=\"text-align: right;\">  timestamp</th><th style=\"text-align: right;\">  timesteps_since_restore</th><th>timesteps_total  </th><th style=\"text-align: right;\">  train-error</th><th style=\"text-align: right;\">  train-logloss</th><th style=\"text-align: right;\">  training_iteration</th><th>trial_id   </th><th style=\"text-align: right;\">  valid-error</th><th style=\"text-align: right;\">  valid-logloss</th><th style=\"text-align: right;\">  warmup_time</th></tr>\n",
       "</thead>\n",
       "<tbody>\n",
       "<tr><td>XGBoostTrainer_11b30_00000</td><td>2023-02-12_07-02-21</td><td>True  </td><td>                </td><td>735c77eae0304c35a99eaef6e4d23ec0</td><td>0_max_depth=2   </td><td>NavinKumarMNK</td><td style=\"text-align: right;\">                        21</td><td>192.168.1.7</td><td style=\"text-align: right;\">186759</td><td>True               </td><td style=\"text-align: right;\">             9.02208</td><td style=\"text-align: right;\">          1.03867 </td><td style=\"text-align: right;\">       9.02208</td><td style=\"text-align: right;\"> 1676165541</td><td style=\"text-align: right;\">                        0</td><td>                 </td><td style=\"text-align: right;\">    0.198157 </td><td style=\"text-align: right;\">      0.454106 </td><td style=\"text-align: right;\">                  21</td><td>11b30_00000</td><td style=\"text-align: right;\">     0.214286</td><td style=\"text-align: right;\">       0.551062</td><td style=\"text-align: right;\">   0.00871205</td></tr>\n",
       "<tr><td>XGBoostTrainer_11b30_00001</td><td>2023-02-12_07-02-24</td><td>True  </td><td>                </td><td>091a35d90c9e4bdf95f027a8fd7fe0b2</td><td>1_max_depth=7   </td><td>NavinKumarMNK</td><td style=\"text-align: right;\">                        21</td><td>192.168.1.7</td><td style=\"text-align: right;\">186923</td><td>True               </td><td style=\"text-align: right;\">             8.42697</td><td style=\"text-align: right;\">          0.386513</td><td style=\"text-align: right;\">       8.42697</td><td style=\"text-align: right;\"> 1676165544</td><td style=\"text-align: right;\">                        0</td><td>                 </td><td style=\"text-align: right;\">    0.0184332</td><td style=\"text-align: right;\">      0.0857333</td><td style=\"text-align: right;\">                  21</td><td>11b30_00001</td><td style=\"text-align: right;\">     0.321429</td><td style=\"text-align: right;\">       1.94026 </td><td style=\"text-align: right;\">   0.0138314 </td></tr>\n",
       "<tr><td>XGBoostTrainer_11b30_00002</td><td>2023-02-12_07-02-24</td><td>True  </td><td>                </td><td>04419bddf8cf49f99b289baece3baa62</td><td>2_max_depth=1   </td><td>NavinKumarMNK</td><td style=\"text-align: right;\">                        21</td><td>192.168.1.7</td><td style=\"text-align: right;\">186925</td><td>True               </td><td style=\"text-align: right;\">             8.63722</td><td style=\"text-align: right;\">          0.759419</td><td style=\"text-align: right;\">       8.63722</td><td style=\"text-align: right;\"> 1676165544</td><td style=\"text-align: right;\">                        0</td><td>                 </td><td style=\"text-align: right;\">    0.253456 </td><td style=\"text-align: right;\">      0.521009 </td><td style=\"text-align: right;\">                  21</td><td>11b30_00002</td><td style=\"text-align: right;\">     0.214286</td><td style=\"text-align: right;\">       0.531917</td><td style=\"text-align: right;\">   0.0163476 </td></tr>\n",
       "<tr><td>XGBoostTrainer_11b30_00003</td><td>2023-02-12_07-02-25</td><td>True  </td><td>                </td><td>95ae9526c4134a389c3e2084bb18097d</td><td>3_max_depth=4   </td><td>NavinKumarMNK</td><td style=\"text-align: right;\">                        21</td><td>192.168.1.7</td><td style=\"text-align: right;\">186927</td><td>True               </td><td style=\"text-align: right;\">             9.79514</td><td style=\"text-align: right;\">          0.47133 </td><td style=\"text-align: right;\">       9.79514</td><td style=\"text-align: right;\"> 1676165545</td><td style=\"text-align: right;\">                        0</td><td>                 </td><td style=\"text-align: right;\">    0.119816 </td><td style=\"text-align: right;\">      0.290872 </td><td style=\"text-align: right;\">                  21</td><td>11b30_00003</td><td style=\"text-align: right;\">     0.214286</td><td style=\"text-align: right;\">       0.460679</td><td style=\"text-align: right;\">   0.010201  </td></tr>\n",
       "<tr><td>XGBoostTrainer_11b30_00004</td><td>2023-02-12_07-02-24</td><td>True  </td><td>                </td><td>5ef80c050aa547d1b71f9f0d681942cf</td><td>4_max_depth=1   </td><td>NavinKumarMNK</td><td style=\"text-align: right;\">                        21</td><td>192.168.1.7</td><td style=\"text-align: right;\">186929</td><td>True               </td><td style=\"text-align: right;\">             9.57499</td><td style=\"text-align: right;\">          0.537809</td><td style=\"text-align: right;\">       9.57499</td><td style=\"text-align: right;\"> 1676165544</td><td style=\"text-align: right;\">                        0</td><td>                 </td><td style=\"text-align: right;\">    0.253456 </td><td style=\"text-align: right;\">      0.521009 </td><td style=\"text-align: right;\">                  21</td><td>11b30_00004</td><td style=\"text-align: right;\">     0.214286</td><td style=\"text-align: right;\">       0.531917</td><td style=\"text-align: right;\">   0.0109296 </td></tr>\n",
       "</tbody>\n",
       "</table>\n",
       "</div>\n",
       "<style>\n",
       ".trialProgress {\n",
       "  display: flex;\n",
       "  flex-direction: column;\n",
       "  color: var(--jp-ui-font-color1);\n",
       "}\n",
       ".trialProgress h3 {\n",
       "  font-weight: bold;\n",
       "}\n",
       ".trialProgress td {\n",
       "  white-space: nowrap;\n",
       "}\n",
       "</style>\n"
      ],
      "text/plain": [
       "<IPython.core.display.HTML object>"
      ]
     },
     "metadata": {},
     "output_type": "display_data"
    },
    {
     "name": "stderr",
     "output_type": "stream",
     "text": [
      "\u001b[2m\u001b[36m(_RemoteRayXGBoostActor pid=187438)\u001b[0m [07:02:22] task [xgboost.ray]:140542966230240 got new rank 0\n",
      "\u001b[2m\u001b[36m(_RemoteRayXGBoostActor pid=187439)\u001b[0m [07:02:22] task [xgboost.ray]:140314307374256 got new rank 1\n",
      "\u001b[2m\u001b[36m(_RemoteRayXGBoostActor pid=187907)\u001b[0m [07:02:22] task [xgboost.ray]:139997623184560 got new rank 0\n",
      "\u001b[2m\u001b[36m(_RemoteRayXGBoostActor pid=187661)\u001b[0m [07:02:22] task [xgboost.ray]:139850901361696 got new rank 1\n",
      "\u001b[2m\u001b[36m(_RemoteRayXGBoostActor pid=187660)\u001b[0m [07:02:22] task [xgboost.ray]:140624658345232 got new rank 0\n",
      "\u001b[2m\u001b[36m(_RemoteRayXGBoostActor pid=187857)\u001b[0m [07:02:22] task [xgboost.ray]:140256167521600 got new rank 1\n",
      "\u001b[2m\u001b[36m(_RemoteRayXGBoostActor pid=187444)\u001b[0m [07:02:23] task [xgboost.ray]:140276604202352 got new rank 0\n",
      "\u001b[2m\u001b[36m(_RemoteRayXGBoostActor pid=187445)\u001b[0m [07:02:23] task [xgboost.ray]:140489448418624 got new rank 1\n",
      "2023-02-12 07:02:25,170\tINFO tune.py:762 -- Total run time: 14.85 seconds (14.72 seconds for the tuning loop).\n"
     ]
    }
   ],
   "source": [
    "from ray.tune.tuner import Tuner, TuneConfig\n",
    "tuner = Tuner (\n",
    "    trainer, \n",
    "    param_space = param_space,\n",
    "    tune_config = TuneConfig(\n",
    "        num_samples=5,\n",
    "        metric=\"train-logloss\",\n",
    "        mode=\"min\"\n",
    "    )\n",
    ")\n",
    "result_grid = tuner.fit()\n",
    "best_result = result_grid.get_best_result()"
   ]
  },
  {
   "cell_type": "code",
   "execution_count": 107,
   "metadata": {},
   "outputs": [
    {
     "name": "stdout",
     "output_type": "stream",
     "text": [
      "Result(metrics={'train-logloss': 0.08573327591667683, 'train-error': 0.0184331797235023, 'valid-logloss': 1.9402604209691552, 'valid-error': 0.32142857142857145, 'should_checkpoint': True, 'done': True, 'trial_id': '11b30_00001', 'experiment_tag': '1_max_depth=7'}, error=None, log_dir=PosixPath('/home/mnk/ray_results/XGBoostTrainer_2023-02-12_07-02-10/XGBoostTrainer_11b30_00001_1_max_depth=7_2023-02-12_07-02-12'))\n"
     ]
    }
   ],
   "source": [
    "print(best_result)"
   ]
  },
  {
   "cell_type": "markdown",
   "metadata": {},
   "source": [
    "## **Ray Predict**"
   ]
  },
  {
   "cell_type": "code",
   "execution_count": 109,
   "metadata": {},
   "outputs": [
    {
     "name": "stderr",
     "output_type": "stream",
     "text": [
      "Map_Batches: 100%|████████████████████████████████| 1/1 [00:00<00:00,  1.17it/s]\n"
     ]
    },
    {
     "data": {
      "application/vnd.jupyter.widget-view+json": {
       "model_id": "07b6126dbd6c47b4b8e1df608dae81e3",
       "version_major": 2,
       "version_minor": 0
      },
      "text/plain": [
       "VBox(children=(HTML(value='<h2>Dataset</h2>'), Tab(children=(HTML(value='<div class=\"scrollableTable jp-Render…"
      ]
     },
     "metadata": {},
     "output_type": "display_data"
    }
   ],
   "source": [
    "test_dataset.drop_columns(cols=\"class\")"
   ]
  },
  {
   "cell_type": "code",
   "execution_count": 118,
   "metadata": {},
   "outputs": [
    {
     "name": "stderr",
     "output_type": "stream",
     "text": [
      "Map Progress (1 actors 1 pending): 100%|██████████| 1/1 [00:01<00:00,  1.30s/it]\n"
     ]
    },
    {
     "ename": "RayTaskError(XGBoostError)",
     "evalue": "\u001b[36mray::BlockWorker.map_block_nosplit()\u001b[39m (pid=192538, ip=192.168.1.7, repr=<ray.data._internal.compute.BlockWorker object at 0x7fd64eef08e0>)\n  File \"/home/mnk/python3/envs/pytorch/lib/python3.10/site-packages/ray/data/_internal/compute.py\", line 315, in map_block_nosplit\n    return _map_block_nosplit(\n  File \"/home/mnk/python3/envs/pytorch/lib/python3.10/site-packages/ray/data/_internal/compute.py\", line 487, in _map_block_nosplit\n    for new_block in block_fn(blocks, *fn_args, **fn_kwargs):\n  File \"/home/mnk/python3/envs/pytorch/lib/python3.10/site-packages/ray/data/dataset.py\", line 595, in transform\n    yield from process_next_batch(batch)\n  File \"/home/mnk/python3/envs/pytorch/lib/python3.10/site-packages/ray/data/dataset.py\", line 577, in process_next_batch\n    batch = batch_fn(batch, *fn_args, **fn_kwargs)\n  File \"/home/mnk/python3/envs/pytorch/lib/python3.10/site-packages/ray/train/batch_predictor.py\", line 266, in __call__\n    prediction_output_batch: DataBatchType = self._predictor.predict(\n  File \"/home/mnk/python3/envs/pytorch/lib/python3.10/site-packages/ray/train/xgboost/xgboost_predictor.py\", line 122, in predict\n    return Predictor.predict(\n  File \"/home/mnk/python3/envs/pytorch/lib/python3.10/site-packages/ray/train/predictor.py\", line 204, in predict\n    return self._predict_pandas(data, **kwargs)\n  File \"/home/mnk/python3/envs/pytorch/lib/python3.10/site-packages/ray/train/xgboost/xgboost_predictor.py\", line 163, in _predict_pandas\n    df = pd.DataFrame(self.model.predict(matrix, **predict_kwargs))\n  File \"/home/mnk/python3/envs/pytorch/lib/python3.10/site-packages/xgboost/core.py\", line 2163, in predict\n    _check_call(\n  File \"/home/mnk/python3/envs/pytorch/lib/python3.10/site-packages/xgboost/core.py\", line 279, in _check_call\n    raise XGBoostError(py_str(_LIB.XGBGetLastError()))\nxgboost.core.XGBoostError: [07:20:21] ../src/learner.cc:1510: Check failed: learner_model_param_.num_feature >= p_fmat->Info().num_col_ (9 vs. 10) : Number of columns does not match number of features in booster.\nStack trace:\n  [bt] (0) /home/mnk/python3/envs/pytorch/lib/python3.10/site-packages/xgboost/lib/libxgboost.so(+0x2c7c79) [0x7fd63f0c7c79]\n  [bt] (1) /home/mnk/python3/envs/pytorch/lib/python3.10/site-packages/xgboost/lib/libxgboost.so(+0x2d32c5) [0x7fd63f0d32c5]\n  [bt] (2) /home/mnk/python3/envs/pytorch/lib/python3.10/site-packages/xgboost/lib/libxgboost.so(+0x2d3368) [0x7fd63f0d3368]\n  [bt] (3) /home/mnk/python3/envs/pytorch/lib/python3.10/site-packages/xgboost/lib/libxgboost.so(+0x2ddb0e) [0x7fd63f0ddb0e]\n  [bt] (4) /home/mnk/python3/envs/pytorch/lib/python3.10/site-packages/xgboost/lib/libxgboost.so(XGBoosterPredictFromDMatrix+0x2ab) [0x7fd63ef3237b]\n  [bt] (5) /home/mnk/python3/envs/pytorch/lib/python3.10/lib-dynload/../../libffi.so.8(+0xa052) [0x7fd7d4077052]\n  [bt] (6) /home/mnk/python3/envs/pytorch/lib/python3.10/lib-dynload/../../libffi.so.8(+0x88cd) [0x7fd7d40758cd]\n  [bt] (7) /home/mnk/python3/envs/pytorch/lib/python3.10/lib-dynload/_ctypes.cpython-310-x86_64-linux-gnu.so(+0x93ef) [0x7fd7d40873ef]\n  [bt] (8) /home/mnk/python3/envs/pytorch/lib/python3.10/lib-dynload/_ctypes.cpython-310-x86_64-linux-gnu.so(+0x865a) [0x7fd7d408665a]",
     "output_type": "error",
     "traceback": [
      "\u001b[0;31m---------------------------------------------------------------------------\u001b[0m",
      "\u001b[0;31mRayTaskError(XGBoostError)\u001b[0m                Traceback (most recent call last)",
      "Cell \u001b[0;32mIn[118], line 6\u001b[0m\n\u001b[1;32m      4\u001b[0m checkpoint \u001b[38;5;241m=\u001b[39m best_result\u001b[38;5;241m.\u001b[39mcheckpoint\n\u001b[1;32m      5\u001b[0m batch_prediction \u001b[38;5;241m=\u001b[39m BatchPredictor\u001b[38;5;241m.\u001b[39mfrom_checkpoint(checkpoint, XGBoostPredictor)\n\u001b[0;32m----> 6\u001b[0m prediction \u001b[38;5;241m=\u001b[39m \u001b[43mbatch_prediction\u001b[49m\u001b[38;5;241;43m.\u001b[39;49m\u001b[43mpredict\u001b[49m\u001b[43m(\u001b[49m\u001b[43mtest_dataset\u001b[49m\u001b[43m)\u001b[49m\n\u001b[1;32m      7\u001b[0m prediction\u001b[38;5;241m.\u001b[39mshow()\n",
      "File \u001b[0;32m~/python3/envs/pytorch/lib/python3.10/site-packages/ray/train/batch_predictor.py:300\u001b[0m, in \u001b[0;36mBatchPredictor.predict\u001b[0;34m(self, data, feature_columns, keep_columns, batch_size, min_scoring_workers, max_scoring_workers, num_cpus_per_worker, num_gpus_per_worker, separate_gpu_stage, ray_remote_args, **predict_kwargs)\u001b[0m\n\u001b[1;32m    295\u001b[0m         batch_fn \u001b[38;5;241m=\u001b[39m preprocessor\u001b[38;5;241m.\u001b[39m_transform_batch\n\u001b[1;32m    296\u001b[0m         data \u001b[38;5;241m=\u001b[39m data\u001b[38;5;241m.\u001b[39mmap_batches(\n\u001b[1;32m    297\u001b[0m             batch_fn, batch_format\u001b[38;5;241m=\u001b[39mpredict_stage_batch_format\n\u001b[1;32m    298\u001b[0m         )\n\u001b[0;32m--> 300\u001b[0m prediction_results \u001b[38;5;241m=\u001b[39m \u001b[43mdata\u001b[49m\u001b[38;5;241;43m.\u001b[39;49m\u001b[43mmap_batches\u001b[49m\u001b[43m(\u001b[49m\n\u001b[1;32m    301\u001b[0m \u001b[43m    \u001b[49m\u001b[43mScoringWrapper\u001b[49m\u001b[43m,\u001b[49m\n\u001b[1;32m    302\u001b[0m \u001b[43m    \u001b[49m\u001b[43mcompute\u001b[49m\u001b[38;5;241;43m=\u001b[39;49m\u001b[43mcompute\u001b[49m\u001b[43m,\u001b[49m\n\u001b[1;32m    303\u001b[0m \u001b[43m    \u001b[49m\u001b[43mbatch_format\u001b[49m\u001b[38;5;241;43m=\u001b[39;49m\u001b[43mpreprocessor_batch_format\u001b[49m\n\u001b[1;32m    304\u001b[0m \u001b[43m    \u001b[49m\u001b[38;5;28;43;01mif\u001b[39;49;00m\u001b[43m \u001b[49m\u001b[38;5;28;43mself\u001b[39;49m\u001b[38;5;241;43m.\u001b[39;49m\u001b[43mget_preprocessor\u001b[49m\u001b[43m(\u001b[49m\u001b[43m)\u001b[49m\u001b[43m \u001b[49m\u001b[38;5;129;43;01mis\u001b[39;49;00m\u001b[43m \u001b[49m\u001b[38;5;129;43;01mnot\u001b[39;49;00m\u001b[43m \u001b[49m\u001b[38;5;28;43;01mNone\u001b[39;49;00m\n\u001b[1;32m    305\u001b[0m \u001b[43m    \u001b[49m\u001b[38;5;28;43;01melse\u001b[39;49;00m\u001b[43m \u001b[49m\u001b[43mpredict_stage_batch_format\u001b[49m\u001b[43m,\u001b[49m\n\u001b[1;32m    306\u001b[0m \u001b[43m    \u001b[49m\u001b[43mbatch_size\u001b[49m\u001b[38;5;241;43m=\u001b[39;49m\u001b[43mbatch_size\u001b[49m\u001b[43m,\u001b[49m\n\u001b[1;32m    307\u001b[0m \u001b[43m    \u001b[49m\u001b[38;5;241;43m*\u001b[39;49m\u001b[38;5;241;43m*\u001b[39;49m\u001b[43mray_remote_args\u001b[49m\u001b[43m,\u001b[49m\n\u001b[1;32m    308\u001b[0m \u001b[43m\u001b[49m\u001b[43m)\u001b[49m\n\u001b[1;32m    310\u001b[0m \u001b[38;5;28;01mreturn\u001b[39;00m prediction_results\n",
      "File \u001b[0;32m~/python3/envs/pytorch/lib/python3.10/site-packages/ray/data/dataset.py:617\u001b[0m, in \u001b[0;36mDataset.map_batches\u001b[0;34m(self, fn, batch_size, compute, batch_format, fn_args, fn_kwargs, fn_constructor_args, fn_constructor_kwargs, **ray_remote_args)\u001b[0m\n\u001b[1;32m    600\u001b[0m         \u001b[38;5;28;01myield\u001b[39;00m output_buffer\u001b[38;5;241m.\u001b[39mnext()\n\u001b[1;32m    602\u001b[0m plan \u001b[38;5;241m=\u001b[39m \u001b[38;5;28mself\u001b[39m\u001b[38;5;241m.\u001b[39m_plan\u001b[38;5;241m.\u001b[39mwith_stage(\n\u001b[1;32m    603\u001b[0m     OneToOneStage(\n\u001b[1;32m    604\u001b[0m         \u001b[38;5;124m\"\u001b[39m\u001b[38;5;124mmap_batches\u001b[39m\u001b[38;5;124m\"\u001b[39m,\n\u001b[0;32m   (...)\u001b[0m\n\u001b[1;32m    615\u001b[0m     )\n\u001b[1;32m    616\u001b[0m )\n\u001b[0;32m--> 617\u001b[0m \u001b[38;5;28;01mreturn\u001b[39;00m \u001b[43mDataset\u001b[49m\u001b[43m(\u001b[49m\u001b[43mplan\u001b[49m\u001b[43m,\u001b[49m\u001b[43m \u001b[49m\u001b[38;5;28;43mself\u001b[39;49m\u001b[38;5;241;43m.\u001b[39;49m\u001b[43m_epoch\u001b[49m\u001b[43m,\u001b[49m\u001b[43m \u001b[49m\u001b[38;5;28;43mself\u001b[39;49m\u001b[38;5;241;43m.\u001b[39;49m\u001b[43m_lazy\u001b[49m\u001b[43m)\u001b[49m\n",
      "File \u001b[0;32m~/python3/envs/pytorch/lib/python3.10/site-packages/ray/data/dataset.py:223\u001b[0m, in \u001b[0;36mDataset.__init__\u001b[0;34m(self, plan, epoch, lazy, defer_execution)\u001b[0m\n\u001b[1;32m    220\u001b[0m \u001b[38;5;28mself\u001b[39m\u001b[38;5;241m.\u001b[39m_lazy \u001b[38;5;241m=\u001b[39m lazy\n\u001b[1;32m    222\u001b[0m \u001b[38;5;28;01mif\u001b[39;00m \u001b[38;5;129;01mnot\u001b[39;00m lazy \u001b[38;5;129;01mand\u001b[39;00m \u001b[38;5;129;01mnot\u001b[39;00m defer_execution:\n\u001b[0;32m--> 223\u001b[0m     \u001b[38;5;28;43mself\u001b[39;49m\u001b[38;5;241;43m.\u001b[39;49m\u001b[43m_plan\u001b[49m\u001b[38;5;241;43m.\u001b[39;49m\u001b[43mexecute\u001b[49m\u001b[43m(\u001b[49m\u001b[43mallow_clear_input_blocks\u001b[49m\u001b[38;5;241;43m=\u001b[39;49m\u001b[38;5;28;43;01mFalse\u001b[39;49;00m\u001b[43m)\u001b[49m\n",
      "File \u001b[0;32m~/python3/envs/pytorch/lib/python3.10/site-packages/ray/data/_internal/plan.py:314\u001b[0m, in \u001b[0;36mExecutionPlan.execute\u001b[0;34m(self, allow_clear_input_blocks, force_read)\u001b[0m\n\u001b[1;32m    312\u001b[0m     clear_input_blocks \u001b[38;5;241m=\u001b[39m \u001b[38;5;28;01mFalse\u001b[39;00m\n\u001b[1;32m    313\u001b[0m stats_builder \u001b[38;5;241m=\u001b[39m stats\u001b[38;5;241m.\u001b[39mchild_builder(stage\u001b[38;5;241m.\u001b[39mname)\n\u001b[0;32m--> 314\u001b[0m blocks, stage_info \u001b[38;5;241m=\u001b[39m \u001b[43mstage\u001b[49m\u001b[43m(\u001b[49m\n\u001b[1;32m    315\u001b[0m \u001b[43m    \u001b[49m\u001b[43mblocks\u001b[49m\u001b[43m,\u001b[49m\u001b[43m \u001b[49m\u001b[43mclear_input_blocks\u001b[49m\u001b[43m,\u001b[49m\u001b[43m \u001b[49m\u001b[38;5;28;43mself\u001b[39;49m\u001b[38;5;241;43m.\u001b[39;49m\u001b[43m_run_by_consumer\u001b[49m\n\u001b[1;32m    316\u001b[0m \u001b[43m\u001b[49m\u001b[43m)\u001b[49m\n\u001b[1;32m    317\u001b[0m \u001b[38;5;28;01mif\u001b[39;00m stage_info:\n\u001b[1;32m    318\u001b[0m     stats \u001b[38;5;241m=\u001b[39m stats_builder\u001b[38;5;241m.\u001b[39mbuild_multistage(stage_info)\n",
      "File \u001b[0;32m~/python3/envs/pytorch/lib/python3.10/site-packages/ray/data/_internal/plan.py:678\u001b[0m, in \u001b[0;36mOneToOneStage.__call__\u001b[0;34m(self, blocks, clear_input_blocks, run_by_consumer)\u001b[0m\n\u001b[1;32m    673\u001b[0m \u001b[38;5;28;01mif\u001b[39;00m blocks\u001b[38;5;241m.\u001b[39m_owned_by_consumer:\n\u001b[1;32m    674\u001b[0m     \u001b[38;5;28;01massert\u001b[39;00m (\n\u001b[1;32m    675\u001b[0m         run_by_consumer\n\u001b[1;32m    676\u001b[0m     ), \u001b[38;5;124m\"\u001b[39m\u001b[38;5;124mBlocks owned by consumer can only be consumed by consumer\u001b[39m\u001b[38;5;124m\"\u001b[39m\n\u001b[0;32m--> 678\u001b[0m blocks \u001b[38;5;241m=\u001b[39m \u001b[43mcompute\u001b[49m\u001b[38;5;241;43m.\u001b[39;49m\u001b[43m_apply\u001b[49m\u001b[43m(\u001b[49m\n\u001b[1;32m    679\u001b[0m \u001b[43m    \u001b[49m\u001b[38;5;28;43mself\u001b[39;49m\u001b[38;5;241;43m.\u001b[39;49m\u001b[43mblock_fn\u001b[49m\u001b[43m,\u001b[49m\n\u001b[1;32m    680\u001b[0m \u001b[43m    \u001b[49m\u001b[38;5;28;43mself\u001b[39;49m\u001b[38;5;241;43m.\u001b[39;49m\u001b[43mray_remote_args\u001b[49m\u001b[43m,\u001b[49m\n\u001b[1;32m    681\u001b[0m \u001b[43m    \u001b[49m\u001b[43mblocks\u001b[49m\u001b[43m,\u001b[49m\n\u001b[1;32m    682\u001b[0m \u001b[43m    \u001b[49m\u001b[43mclear_input_blocks\u001b[49m\u001b[43m,\u001b[49m\n\u001b[1;32m    683\u001b[0m \u001b[43m    \u001b[49m\u001b[43mname\u001b[49m\u001b[38;5;241;43m=\u001b[39;49m\u001b[38;5;28;43mself\u001b[39;49m\u001b[38;5;241;43m.\u001b[39;49m\u001b[43mname\u001b[49m\u001b[43m,\u001b[49m\n\u001b[1;32m    684\u001b[0m \u001b[43m    \u001b[49m\u001b[43mtarget_block_size\u001b[49m\u001b[38;5;241;43m=\u001b[39;49m\u001b[38;5;28;43mself\u001b[39;49m\u001b[38;5;241;43m.\u001b[39;49m\u001b[43mtarget_block_size\u001b[49m\u001b[43m,\u001b[49m\n\u001b[1;32m    685\u001b[0m \u001b[43m    \u001b[49m\u001b[43mfn\u001b[49m\u001b[38;5;241;43m=\u001b[39;49m\u001b[38;5;28;43mself\u001b[39;49m\u001b[38;5;241;43m.\u001b[39;49m\u001b[43mfn\u001b[49m\u001b[43m,\u001b[49m\n\u001b[1;32m    686\u001b[0m \u001b[43m    \u001b[49m\u001b[43mfn_args\u001b[49m\u001b[38;5;241;43m=\u001b[39;49m\u001b[38;5;28;43mself\u001b[39;49m\u001b[38;5;241;43m.\u001b[39;49m\u001b[43mfn_args\u001b[49m\u001b[43m,\u001b[49m\n\u001b[1;32m    687\u001b[0m \u001b[43m    \u001b[49m\u001b[43mfn_kwargs\u001b[49m\u001b[38;5;241;43m=\u001b[39;49m\u001b[38;5;28;43mself\u001b[39;49m\u001b[38;5;241;43m.\u001b[39;49m\u001b[43mfn_kwargs\u001b[49m\u001b[43m,\u001b[49m\n\u001b[1;32m    688\u001b[0m \u001b[43m    \u001b[49m\u001b[43mfn_constructor_args\u001b[49m\u001b[38;5;241;43m=\u001b[39;49m\u001b[38;5;28;43mself\u001b[39;49m\u001b[38;5;241;43m.\u001b[39;49m\u001b[43mfn_constructor_args\u001b[49m\u001b[43m,\u001b[49m\n\u001b[1;32m    689\u001b[0m \u001b[43m    \u001b[49m\u001b[43mfn_constructor_kwargs\u001b[49m\u001b[38;5;241;43m=\u001b[39;49m\u001b[38;5;28;43mself\u001b[39;49m\u001b[38;5;241;43m.\u001b[39;49m\u001b[43mfn_constructor_kwargs\u001b[49m\u001b[43m,\u001b[49m\n\u001b[1;32m    690\u001b[0m \u001b[43m\u001b[49m\u001b[43m)\u001b[49m\n\u001b[1;32m    691\u001b[0m \u001b[38;5;28;01massert\u001b[39;00m \u001b[38;5;28misinstance\u001b[39m(blocks, BlockList), blocks\n\u001b[1;32m    692\u001b[0m blocks\u001b[38;5;241m.\u001b[39m_owned_by_consumer \u001b[38;5;241m=\u001b[39m run_by_consumer\n",
      "File \u001b[0;32m~/python3/envs/pytorch/lib/python3.10/site-packages/ray/data/_internal/compute.py:424\u001b[0m, in \u001b[0;36mActorPoolStrategy._apply\u001b[0;34m(self, block_fn, remote_args, block_list, clear_input_blocks, name, target_block_size, fn, fn_args, fn_kwargs, fn_constructor_args, fn_constructor_kwargs)\u001b[0m\n\u001b[1;32m    422\u001b[0m     logger\u001b[38;5;241m.\u001b[39mexception(\u001b[38;5;124mf\u001b[39m\u001b[38;5;124m\"\u001b[39m\u001b[38;5;124mError killing workers: \u001b[39m\u001b[38;5;132;01m{\u001b[39;00merr\u001b[38;5;132;01m}\u001b[39;00m\u001b[38;5;124m\"\u001b[39m)\n\u001b[1;32m    423\u001b[0m \u001b[38;5;28;01mfinally\u001b[39;00m:\n\u001b[0;32m--> 424\u001b[0m     \u001b[38;5;28;01mraise\u001b[39;00m e \u001b[38;5;28;01mfrom\u001b[39;00m \u001b[38;5;28mNone\u001b[39m\n",
      "File \u001b[0;32m~/python3/envs/pytorch/lib/python3.10/site-packages/ray/data/_internal/compute.py:412\u001b[0m, in \u001b[0;36mActorPoolStrategy._apply\u001b[0;34m(self, block_fn, remote_args, block_list, clear_input_blocks, name, target_block_size, fn, fn_args, fn_kwargs, fn_constructor_args, fn_constructor_kwargs)\u001b[0m\n\u001b[1;32m    410\u001b[0m         new_blocks\u001b[38;5;241m.\u001b[39mappend(block)\n\u001b[1;32m    411\u001b[0m         new_metadata\u001b[38;5;241m.\u001b[39mappend(metadata_mapping[block])\n\u001b[0;32m--> 412\u001b[0m     new_metadata \u001b[38;5;241m=\u001b[39m \u001b[43mray\u001b[49m\u001b[38;5;241;43m.\u001b[39;49m\u001b[43mget\u001b[49m\u001b[43m(\u001b[49m\u001b[43mnew_metadata\u001b[49m\u001b[43m)\u001b[49m\n\u001b[1;32m    413\u001b[0m     \u001b[38;5;28;01mreturn\u001b[39;00m BlockList(\n\u001b[1;32m    414\u001b[0m         new_blocks, new_metadata, owned_by_consumer\u001b[38;5;241m=\u001b[39mowned_by_consumer\n\u001b[1;32m    415\u001b[0m     )\n\u001b[1;32m    417\u001b[0m \u001b[38;5;28;01mexcept\u001b[39;00m \u001b[38;5;167;01mException\u001b[39;00m \u001b[38;5;28;01mas\u001b[39;00m e:\n",
      "File \u001b[0;32m~/python3/envs/pytorch/lib/python3.10/site-packages/ray/_private/client_mode_hook.py:105\u001b[0m, in \u001b[0;36mclient_mode_hook.<locals>.wrapper\u001b[0;34m(*args, **kwargs)\u001b[0m\n\u001b[1;32m    103\u001b[0m     \u001b[38;5;28;01mif\u001b[39;00m func\u001b[38;5;241m.\u001b[39m\u001b[38;5;18m__name__\u001b[39m \u001b[38;5;241m!=\u001b[39m \u001b[38;5;124m\"\u001b[39m\u001b[38;5;124minit\u001b[39m\u001b[38;5;124m\"\u001b[39m \u001b[38;5;129;01mor\u001b[39;00m is_client_mode_enabled_by_default:\n\u001b[1;32m    104\u001b[0m         \u001b[38;5;28;01mreturn\u001b[39;00m \u001b[38;5;28mgetattr\u001b[39m(ray, func\u001b[38;5;241m.\u001b[39m\u001b[38;5;18m__name__\u001b[39m)(\u001b[38;5;241m*\u001b[39margs, \u001b[38;5;241m*\u001b[39m\u001b[38;5;241m*\u001b[39mkwargs)\n\u001b[0;32m--> 105\u001b[0m \u001b[38;5;28;01mreturn\u001b[39;00m \u001b[43mfunc\u001b[49m\u001b[43m(\u001b[49m\u001b[38;5;241;43m*\u001b[39;49m\u001b[43margs\u001b[49m\u001b[43m,\u001b[49m\u001b[43m \u001b[49m\u001b[38;5;241;43m*\u001b[39;49m\u001b[38;5;241;43m*\u001b[39;49m\u001b[43mkwargs\u001b[49m\u001b[43m)\u001b[49m\n",
      "File \u001b[0;32m~/python3/envs/pytorch/lib/python3.10/site-packages/ray/_private/worker.py:2309\u001b[0m, in \u001b[0;36mget\u001b[0;34m(object_refs, timeout)\u001b[0m\n\u001b[1;32m   2307\u001b[0m     worker\u001b[38;5;241m.\u001b[39mcore_worker\u001b[38;5;241m.\u001b[39mdump_object_store_memory_usage()\n\u001b[1;32m   2308\u001b[0m \u001b[38;5;28;01mif\u001b[39;00m \u001b[38;5;28misinstance\u001b[39m(value, RayTaskError):\n\u001b[0;32m-> 2309\u001b[0m     \u001b[38;5;28;01mraise\u001b[39;00m value\u001b[38;5;241m.\u001b[39mas_instanceof_cause()\n\u001b[1;32m   2310\u001b[0m \u001b[38;5;28;01melse\u001b[39;00m:\n\u001b[1;32m   2311\u001b[0m     \u001b[38;5;28;01mraise\u001b[39;00m value\n",
      "\u001b[0;31mRayTaskError(XGBoostError)\u001b[0m: \u001b[36mray::BlockWorker.map_block_nosplit()\u001b[39m (pid=192538, ip=192.168.1.7, repr=<ray.data._internal.compute.BlockWorker object at 0x7fd64eef08e0>)\n  File \"/home/mnk/python3/envs/pytorch/lib/python3.10/site-packages/ray/data/_internal/compute.py\", line 315, in map_block_nosplit\n    return _map_block_nosplit(\n  File \"/home/mnk/python3/envs/pytorch/lib/python3.10/site-packages/ray/data/_internal/compute.py\", line 487, in _map_block_nosplit\n    for new_block in block_fn(blocks, *fn_args, **fn_kwargs):\n  File \"/home/mnk/python3/envs/pytorch/lib/python3.10/site-packages/ray/data/dataset.py\", line 595, in transform\n    yield from process_next_batch(batch)\n  File \"/home/mnk/python3/envs/pytorch/lib/python3.10/site-packages/ray/data/dataset.py\", line 577, in process_next_batch\n    batch = batch_fn(batch, *fn_args, **fn_kwargs)\n  File \"/home/mnk/python3/envs/pytorch/lib/python3.10/site-packages/ray/train/batch_predictor.py\", line 266, in __call__\n    prediction_output_batch: DataBatchType = self._predictor.predict(\n  File \"/home/mnk/python3/envs/pytorch/lib/python3.10/site-packages/ray/train/xgboost/xgboost_predictor.py\", line 122, in predict\n    return Predictor.predict(\n  File \"/home/mnk/python3/envs/pytorch/lib/python3.10/site-packages/ray/train/predictor.py\", line 204, in predict\n    return self._predict_pandas(data, **kwargs)\n  File \"/home/mnk/python3/envs/pytorch/lib/python3.10/site-packages/ray/train/xgboost/xgboost_predictor.py\", line 163, in _predict_pandas\n    df = pd.DataFrame(self.model.predict(matrix, **predict_kwargs))\n  File \"/home/mnk/python3/envs/pytorch/lib/python3.10/site-packages/xgboost/core.py\", line 2163, in predict\n    _check_call(\n  File \"/home/mnk/python3/envs/pytorch/lib/python3.10/site-packages/xgboost/core.py\", line 279, in _check_call\n    raise XGBoostError(py_str(_LIB.XGBGetLastError()))\nxgboost.core.XGBoostError: [07:20:21] ../src/learner.cc:1510: Check failed: learner_model_param_.num_feature >= p_fmat->Info().num_col_ (9 vs. 10) : Number of columns does not match number of features in booster.\nStack trace:\n  [bt] (0) /home/mnk/python3/envs/pytorch/lib/python3.10/site-packages/xgboost/lib/libxgboost.so(+0x2c7c79) [0x7fd63f0c7c79]\n  [bt] (1) /home/mnk/python3/envs/pytorch/lib/python3.10/site-packages/xgboost/lib/libxgboost.so(+0x2d32c5) [0x7fd63f0d32c5]\n  [bt] (2) /home/mnk/python3/envs/pytorch/lib/python3.10/site-packages/xgboost/lib/libxgboost.so(+0x2d3368) [0x7fd63f0d3368]\n  [bt] (3) /home/mnk/python3/envs/pytorch/lib/python3.10/site-packages/xgboost/lib/libxgboost.so(+0x2ddb0e) [0x7fd63f0ddb0e]\n  [bt] (4) /home/mnk/python3/envs/pytorch/lib/python3.10/site-packages/xgboost/lib/libxgboost.so(XGBoosterPredictFromDMatrix+0x2ab) [0x7fd63ef3237b]\n  [bt] (5) /home/mnk/python3/envs/pytorch/lib/python3.10/lib-dynload/../../libffi.so.8(+0xa052) [0x7fd7d4077052]\n  [bt] (6) /home/mnk/python3/envs/pytorch/lib/python3.10/lib-dynload/../../libffi.so.8(+0x88cd) [0x7fd7d40758cd]\n  [bt] (7) /home/mnk/python3/envs/pytorch/lib/python3.10/lib-dynload/_ctypes.cpython-310-x86_64-linux-gnu.so(+0x93ef) [0x7fd7d40873ef]\n  [bt] (8) /home/mnk/python3/envs/pytorch/lib/python3.10/lib-dynload/_ctypes.cpython-310-x86_64-linux-gnu.so(+0x865a) [0x7fd7d408665a]"
     ]
    }
   ],
   "source": [
    "from ray.train.batch_predictor import BatchPredictor\n",
    "from ray.train.xgboost import XGBoostPredictor\n",
    "\n",
    "checkpoint = best_result.checkpoint\n",
    "batch_prediction = BatchPredictor.from_checkpoint(checkpoint, XGBoostPredictor)\n",
    "prediction = batch_prediction.predict(test_dataset)\n",
    "prediction.show()"
   ]
  },
  {
   "cell_type": "code",
   "execution_count": null,
   "metadata": {},
   "outputs": [],
   "source": []
  }
 ],
 "metadata": {
  "kernelspec": {
   "display_name": "Python 3 (ipykernel)",
   "language": "python",
   "name": "python3"
  },
  "language_info": {
   "codemirror_mode": {
    "name": "ipython",
    "version": 3
   },
   "file_extension": ".py",
   "mimetype": "text/x-python",
   "name": "python",
   "nbconvert_exporter": "python",
   "pygments_lexer": "ipython3",
   "version": "3.10.8"
  }
 },
 "nbformat": 4,
 "nbformat_minor": 2
}
