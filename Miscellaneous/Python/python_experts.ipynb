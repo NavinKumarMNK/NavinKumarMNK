{
 "cells": [
  {
   "cell_type": "markdown",
   "metadata": {},
   "source": [
    "## **Python Expert**\n",
    "#### ref : https://www.youtube.com/watch?v=cKPlPJyQrt4"
   ]
  },
  {
   "cell_type": "markdown",
   "metadata": {},
   "source": [
    "### **Data Model**"
   ]
  },
  {
   "cell_type": "code",
   "execution_count": 1,
   "metadata": {},
   "outputs": [
    {
     "data": {
      "text/plain": [
       "(1, 2, 3)"
      ]
     },
     "execution_count": 1,
     "metadata": {},
     "output_type": "execute_result"
    }
   ],
   "source": [
    "class Polynomial:\n",
    "    pass\n",
    "\n",
    "p1 = Polynomial()\n",
    "p2 = Polynomial()\n",
    "\n",
    "p1.coeffs = 1, 2, 3\n",
    "p2.coeffs = 3, 4, 3\n",
    "\n",
    "p1.coeffs"
   ]
  },
  {
   "cell_type": "markdown",
   "metadata": {},
   "source": [
    "<pre>__init__</pre>"
   ]
  },
  {
   "cell_type": "code",
   "execution_count": 2,
   "metadata": {},
   "outputs": [
    {
     "name": "stdout",
     "output_type": "stream",
     "text": [
      "(1, 2, 3)\n"
     ]
    }
   ],
   "source": [
    "class Polynomial:\n",
    "    def __init__(self, *coeffs):\n",
    "        self.coeffs = coeffs\n",
    "\n",
    "p1 = Polynomial(1, 2, 3)\n",
    "p2 = Polynomial(3, 4, 3)\n",
    "\n",
    "print(p1.coeffs)"
   ]
  },
  {
   "cell_type": "markdown",
   "metadata": {},
   "source": [
    "<pre>__repr__</pre>"
   ]
  },
  {
   "cell_type": "code",
   "execution_count": 3,
   "metadata": {},
   "outputs": [
    {
     "name": "stdout",
     "output_type": "stream",
     "text": [
      "Polynomial (1, 2, 3)\n"
     ]
    }
   ],
   "source": [
    "class Polynomial:\n",
    "    def __init__(self, *coeffs):\n",
    "        self.coeffs = coeffs\n",
    "\n",
    "    def __repr__(self):\n",
    "        return f'Polynomial {self.coeffs}'\n",
    "\n",
    "p1 = Polynomial(1, 2, 3)\n",
    "p2 = Polynomial(3, 4, 3)\n",
    "\n",
    "print(p1)"
   ]
  },
  {
   "cell_type": "markdown",
   "metadata": {},
   "source": [
    "<pre>__add__</pre>"
   ]
  },
  {
   "cell_type": "code",
   "execution_count": 4,
   "metadata": {},
   "outputs": [],
   "source": [
    "class Polynomial:\n",
    "    def __init__(self, *coeffs):\n",
    "        self.coeffs = coeffs\n",
    "\n",
    "    def __repr__(self):\n",
    "        return f'Polynomial {self.coeffs}'\n",
    "    \n",
    "    def __add__(self, other):\n",
    "        return Polynomial(*(x+y for x, y in zip(self.coeffs, other.coeffs)))\n",
    "\n",
    "p1 = Polynomial(1, 2, 3)\n",
    "p2 = Polynomial(3, 4, 3)"
   ]
  },
  {
   "cell_type": "code",
   "execution_count": 5,
   "metadata": {},
   "outputs": [
    {
     "data": {
      "text/plain": [
       "Polynomial (4, 6, 6)"
      ]
     },
     "execution_count": 5,
     "metadata": {},
     "output_type": "execute_result"
    }
   ],
   "source": [
    "p1 + p2 "
   ]
  },
  {
   "cell_type": "markdown",
   "metadata": {},
   "source": [
    "<pre>__len__</pre>"
   ]
  },
  {
   "cell_type": "code",
   "execution_count": 6,
   "metadata": {},
   "outputs": [],
   "source": [
    "class Polynomial:\n",
    "    def __init__(self, *coeffs):\n",
    "        self.coeffs = coeffs\n",
    "\n",
    "    def __repr__(self):\n",
    "        return f'Polynomial {self.coeffs}'\n",
    "    \n",
    "    def __add__(self, other):\n",
    "        return Polynomial(*(x+y for x, y in zip(self.coeffs, other.coeffs)))\n",
    "\n",
    "    def __len__(self):\n",
    "        return len(self.coeffs)\n",
    "\n",
    "p1 = Polynomial(1, 2, 3)\n",
    "p2 = Polynomial(3, 4, 3)"
   ]
  },
  {
   "cell_type": "code",
   "execution_count": 7,
   "metadata": {},
   "outputs": [
    {
     "data": {
      "text/plain": [
       "(3, 3)"
      ]
     },
     "execution_count": 7,
     "metadata": {},
     "output_type": "execute_result"
    }
   ],
   "source": [
    "len(p1), len(p2)"
   ]
  },
  {
   "cell_type": "markdown",
   "metadata": {},
   "source": [
    "<pre>__call__</pre>"
   ]
  },
  {
   "cell_type": "code",
   "execution_count": 8,
   "metadata": {},
   "outputs": [],
   "source": [
    "class Polynomial:\n",
    "    def __init__(self, *coeffs):\n",
    "        self.coeffs = coeffs\n",
    "\n",
    "    def __repr__(self):\n",
    "        return f'Polynomial {self.coeffs}'\n",
    "    \n",
    "    def __add__(self, other):\n",
    "        return Polynomial(*(x+y for x, y in zip(self.coeffs, other.coeffs)))\n",
    "\n",
    "    def __len__(self):\n",
    "        return len(self.coeffs)\n",
    "\n",
    "    def __call__(self):\n",
    "        return self.coeffs\n",
    "\n",
    "p1 = Polynomial(1, 2, 3)\n",
    "p2 = Polynomial(3, 4, 3)"
   ]
  },
  {
   "cell_type": "code",
   "execution_count": 9,
   "metadata": {},
   "outputs": [
    {
     "data": {
      "text/plain": [
       "(1, 2, 3)"
      ]
     },
     "execution_count": 9,
     "metadata": {},
     "output_type": "execute_result"
    }
   ],
   "source": [
    "coeffs = p1()\n",
    "coeffs"
   ]
  },
  {
   "cell_type": "markdown",
   "metadata": {},
   "source": [
    "### **Meta Classes - Decorators, Generators, Context Managers**"
   ]
  },
  {
   "cell_type": "markdown",
   "metadata": {},
   "source": [
    "<pre>assert [check], raise error</pre>"
   ]
  },
  {
   "cell_type": "markdown",
   "metadata": {},
   "source": [
    "**Developer Side**"
   ]
  },
  {
   "cell_type": "code",
   "execution_count": 10,
   "metadata": {},
   "outputs": [],
   "source": [
    "class Base:\n",
    "    def foo(self): return 'foo'"
   ]
  },
  {
   "cell_type": "code",
   "execution_count": 11,
   "metadata": {},
   "outputs": [],
   "source": [
    "assert hasattr(Base, 'foo'), \"Function Not Found\"\n",
    "class Derived(Base):\n",
    "    def bar(self): return 'bar'"
   ]
  },
  {
   "cell_type": "markdown",
   "metadata": {},
   "source": [
    "**Library Side**"
   ]
  },
  {
   "cell_type": "code",
   "execution_count": 12,
   "metadata": {},
   "outputs": [
    {
     "name": "stdout",
     "output_type": "stream",
     "text": [
      "  2           0 LOAD_BUILD_CLASS\n",
      "              2 LOAD_CONST               1 (<code object Base at 0x7fd56c39d630, file \"/tmp/ipykernel_12209/945107664.py\", line 2>)\n",
      "              4 LOAD_CONST               2 ('Base')\n",
      "              6 MAKE_FUNCTION            0\n",
      "              8 LOAD_CONST               2 ('Base')\n",
      "             10 CALL_FUNCTION            2\n",
      "             12 STORE_FAST               0 (Base)\n",
      "             14 LOAD_CONST               0 (None)\n",
      "             16 RETURN_VALUE\n",
      "\n",
      "Disassembly of <code object Base at 0x7fd56c39d630, file \"/tmp/ipykernel_12209/945107664.py\", line 2>:\n",
      "  2           0 LOAD_NAME                0 (__name__)\n",
      "              2 STORE_NAME               1 (__module__)\n",
      "              4 LOAD_CONST               0 ('_.<locals>.Base')\n",
      "              6 STORE_NAME               2 (__qualname__)\n",
      "\n",
      "  3           8 LOAD_CONST               1 (None)\n",
      "             10 RETURN_VALUE\n",
      "None\n"
     ]
    }
   ],
   "source": [
    "def _():\n",
    "    class Base:\n",
    "        pass\n",
    "\n",
    "from dis import dis\n",
    "print(dis(_))"
   ]
  },
  {
   "cell_type": "code",
   "execution_count": 13,
   "metadata": {},
   "outputs": [],
   "source": [
    "class Base:\n",
    "    def foo(self): return self.bar()\n",
    "\n",
    "old_bc = __build_class__\n",
    "def my_bc(*a, **kw):\n",
    "    print(\"My BuildClass -> \", a, kw)\n",
    "    return old_bc(*a, **kw)\n",
    "\n",
    "import builtins \n",
    "builtins.__build_class__ = my_bc"
   ]
  },
  {
   "cell_type": "code",
   "execution_count": 14,
   "metadata": {},
   "outputs": [
    {
     "name": "stdout",
     "output_type": "stream",
     "text": [
      "My BuildClass ->  (<function Derived at 0x7fd55c59db40>, 'Derived', <class '__main__.Base'>) {}\n"
     ]
    }
   ],
   "source": [
    "class Derived(Base):\n",
    "    def bar(self):\n",
    "        return 'bar'"
   ]
  },
  {
   "cell_type": "markdown",
   "metadata": {},
   "source": [
    "We can get the see the class building => which helps us to handle the devloper error from library side"
   ]
  },
  {
   "cell_type": "code",
   "execution_count": 1,
   "metadata": {},
   "outputs": [],
   "source": [
    "# Handling\n",
    "class Base:\n",
    "    def foo(self): \n",
    "        print(\"Base.foo => Bar\")\n",
    "        return self.bar()\n",
    "\n",
    "old_bc = __build_class__\n",
    "def my_bc(func, name, base=None, **kw):\n",
    "    if base is Base:\n",
    "        print(\"Check if 'bar' is defined\")\n",
    "    if base is not None:\n",
    "        return old_bc(func, name, base, **kw)\n",
    "    return old_bc(func, name,  **kw)\n",
    "\n",
    "import builtins \n",
    "builtins.__build_class__ = my_bc\n"
   ]
  },
  {
   "cell_type": "code",
   "execution_count": 3,
   "metadata": {},
   "outputs": [
    {
     "name": "stdout",
     "output_type": "stream",
     "text": [
      "Check if 'bar' is defined\n"
     ]
    }
   ],
   "source": [
    "class Derived(Base):\n",
    "    def bar(self):\n",
    "        return 'bar'"
   ]
  },
  {
   "cell_type": "markdown",
   "metadata": {},
   "source": [
    "**Option 2 : Meta Classes**"
   ]
  },
  {
   "cell_type": "code",
   "execution_count": 6,
   "metadata": {},
   "outputs": [
    {
     "name": "stdout",
     "output_type": "stream",
     "text": [
      "cls= <class '__main__.BaseMeta'> name=  Base bases=  () body=  {'__module__': '__main__', '__qualname__': 'Base', 'foo': <function Base.foo at 0x7ff2db207be0>}\n"
     ]
    }
   ],
   "source": [
    "class BaseMeta(type):\n",
    "    def __new__(cls, name, bases, body):\n",
    "        print(\"cls=\", cls, \"name= \", name, \"bases= \", bases, \"body= \",body)\n",
    "        if name != 'Base' and not 'bar'in body:\n",
    "            raise TypeError(\"bar Function not found\")\n",
    "        return super().__new__(cls, name, bases, body)\n",
    "\n",
    "class Base(metaclass=BaseMeta):\n",
    "    def foo(self):\n",
    "        return self.bar()\n"
   ]
  },
  {
   "cell_type": "code",
   "execution_count": 7,
   "metadata": {},
   "outputs": [
    {
     "name": "stdout",
     "output_type": "stream",
     "text": [
      "cls= <class '__main__.BaseMeta'> name=  Derived bases=  (<class '__main__.Base'>,) body=  {'__module__': '__main__', '__qualname__': 'Derived', 'bar': <function Derived.bar at 0x7ff2db207c70>}\n"
     ]
    }
   ],
   "source": [
    "class Derived(Base):\n",
    "    def bar(self):\n",
    "        return 'bar'"
   ]
  },
  {
   "cell_type": "markdown",
   "metadata": {},
   "source": [
    "**Option 3: init_subclass**"
   ]
  },
  {
   "cell_type": "code",
   "execution_count": 2,
   "metadata": {},
   "outputs": [],
   "source": [
    "class Base:\n",
    "    def foo(self):\n",
    "        return self.bar()\n",
    "\n",
    "    def __init_subclass__(self, *a, **kw):\n",
    "        print(\"init_subclass\", a, kw)\n",
    "        return super().__init_subclass__(*a, **kw)\n"
   ]
  },
  {
   "cell_type": "code",
   "execution_count": 3,
   "metadata": {},
   "outputs": [
    {
     "name": "stdout",
     "output_type": "stream",
     "text": [
      "init_subclass () {}\n"
     ]
    }
   ],
   "source": [
    "class Derived(Base):\n",
    "    def bar(self):\n",
    "        return 'bar'"
   ]
  },
  {
   "cell_type": "markdown",
   "metadata": {},
   "source": [
    "### **Decorators**"
   ]
  },
  {
   "cell_type": "code",
   "execution_count": 4,
   "metadata": {},
   "outputs": [],
   "source": [
    "from time import time\n",
    "def timer(func):\n",
    "    def wrapper(*args, **kwargs):\n",
    "        start = time()\n",
    "        result = func(*args, **kwargs)\n",
    "        end = time()\n",
    "        print('elapsed', end - start)\n",
    "        return result\n",
    "    return wrapper\n"
   ]
  },
  {
   "cell_type": "code",
   "execution_count": 11,
   "metadata": {},
   "outputs": [
    {
     "name": "stdout",
     "output_type": "stream",
     "text": [
      "elapsed 1.1920928955078125e-06\n",
      "201000000000000.0\n"
     ]
    }
   ],
   "source": [
    "@timer\n",
    "def add(x, y=10):\n",
    "    return x+y\n",
    "\n",
    "print(add(100e+10, 200e+12))"
   ]
  },
  {
   "cell_type": "markdown",
   "metadata": {},
   "source": [
    "**Higher Order Decorators**"
   ]
  },
  {
   "cell_type": "code",
   "execution_count": 21,
   "metadata": {},
   "outputs": [
    {
     "name": "stdout",
     "output_type": "stream",
     "text": [
      "Running add = 50\n",
      "Running add = 100\n",
      "Running add = 150\n"
     ]
    }
   ],
   "source": [
    "#print n times the result\n",
    "def ntimes(n): # parameter to decorator\n",
    "    def print_ntimes(func): # parameter for the funtion \n",
    "        def wrapper(*args, **kwargs): # parameter for the function parameter\n",
    "            result = 0\n",
    "            for _ in range(n):\n",
    "                result = func(*args, **kwargs) + result\n",
    "                print(f\"Running {func.__name__} = {result}\")\n",
    "        return wrapper\n",
    "    return print_ntimes\n",
    "    \n",
    "\n",
    "@ntimes(3)\n",
    "def add(x, y):\n",
    "    return x+y\n",
    "\n",
    "add(20, 30)"
   ]
  },
  {
   "cell_type": "markdown",
   "metadata": {},
   "source": [
    "### **Generators**"
   ]
  },
  {
   "cell_type": "markdown",
   "metadata": {},
   "source": [
    "Eager : irrespective of what we care about computation part, it process the whole query"
   ]
  },
  {
   "cell_type": "code",
   "execution_count": 26,
   "metadata": {},
   "outputs": [
    {
     "data": {
      "text/plain": [
       "[0, 1, 2]"
      ]
     },
     "execution_count": 26,
     "metadata": {},
     "output_type": "execute_result"
    }
   ],
   "source": [
    "from time import sleep\n",
    "class Compute: # Time Taking\n",
    "    def __call__(self):\n",
    "        rv = []\n",
    "        for i in range(3):\n",
    "            sleep(.2)\n",
    "            rv.append(i)\n",
    "        return rv\n",
    "    \n",
    "compute = Compute()()\n",
    "compute"
   ]
  },
  {
   "cell_type": "code",
   "execution_count": 35,
   "metadata": {},
   "outputs": [],
   "source": [
    "class StopIteration(Exception):\n",
    "    def __init__(self, *args):\n",
    "        self.message = args[0]"
   ]
  },
  {
   "cell_type": "code",
   "execution_count": 36,
   "metadata": {},
   "outputs": [
    {
     "name": "stdout",
     "output_type": "stream",
     "text": [
      "0\n",
      "1\n",
      "2\n",
      "3\n",
      "4\n",
      "5\n",
      "6\n",
      "7\n",
      "8\n",
      "9\n"
     ]
    },
    {
     "ename": "StopIteration",
     "evalue": "Excpetion",
     "output_type": "error",
     "traceback": [
      "\u001b[0;31m---------------------------------------------------------------------------\u001b[0m",
      "\u001b[0;31mStopIteration\u001b[0m                             Traceback (most recent call last)",
      "\u001b[1;32m/home/mnk/MNK/Mega/MegNav/Miscellaneous/Python/python_experts.ipynb Cell 44\u001b[0m in \u001b[0;36m<cell line: 13>\u001b[0;34m()\u001b[0m\n\u001b[1;32m     <a href='vscode-notebook-cell://wsl%2Bubuntu/home/mnk/MNK/Mega/MegNav/Miscellaneous/Python/python_experts.ipynb#X63sdnNjb2RlLXJlbW90ZQ%3D%3D?line=9'>10</a>\u001b[0m         sleep(\u001b[39m.2\u001b[39m)\n\u001b[1;32m     <a href='vscode-notebook-cell://wsl%2Bubuntu/home/mnk/MNK/Mega/MegNav/Miscellaneous/Python/python_experts.ipynb#X63sdnNjb2RlLXJlbW90ZQ%3D%3D?line=10'>11</a>\u001b[0m         \u001b[39mreturn\u001b[39;00m rv\n\u001b[0;32m---> <a href='vscode-notebook-cell://wsl%2Bubuntu/home/mnk/MNK/Mega/MegNav/Miscellaneous/Python/python_experts.ipynb#X63sdnNjb2RlLXJlbW90ZQ%3D%3D?line=12'>13</a>\u001b[0m \u001b[39mfor\u001b[39;00m val \u001b[39min\u001b[39;00m Compute():\n\u001b[1;32m     <a href='vscode-notebook-cell://wsl%2Bubuntu/home/mnk/MNK/Mega/MegNav/Miscellaneous/Python/python_experts.ipynb#X63sdnNjb2RlLXJlbW90ZQ%3D%3D?line=13'>14</a>\u001b[0m     \u001b[39mprint\u001b[39m(val)\n",
      "\u001b[1;32m/home/mnk/MNK/Mega/MegNav/Miscellaneous/Python/python_experts.ipynb Cell 44\u001b[0m in \u001b[0;36mCompute.__next__\u001b[0;34m(self)\u001b[0m\n\u001b[1;32m      <a href='vscode-notebook-cell://wsl%2Bubuntu/home/mnk/MNK/Mega/MegNav/Miscellaneous/Python/python_experts.ipynb#X63sdnNjb2RlLXJlbW90ZQ%3D%3D?line=6'>7</a>\u001b[0m \u001b[39mself\u001b[39m\u001b[39m.\u001b[39mcount\u001b[39m+\u001b[39m\u001b[39m=\u001b[39m\u001b[39m1\u001b[39m\n\u001b[1;32m      <a href='vscode-notebook-cell://wsl%2Bubuntu/home/mnk/MNK/Mega/MegNav/Miscellaneous/Python/python_experts.ipynb#X63sdnNjb2RlLXJlbW90ZQ%3D%3D?line=7'>8</a>\u001b[0m \u001b[39mif\u001b[39;00m \u001b[39mself\u001b[39m\u001b[39m.\u001b[39mcount \u001b[39m>\u001b[39m \u001b[39m10\u001b[39m:\n\u001b[0;32m----> <a href='vscode-notebook-cell://wsl%2Bubuntu/home/mnk/MNK/Mega/MegNav/Miscellaneous/Python/python_experts.ipynb#X63sdnNjb2RlLXJlbW90ZQ%3D%3D?line=8'>9</a>\u001b[0m     \u001b[39mraise\u001b[39;00m \u001b[39mStopIteration\u001b[39;00m(\u001b[39m\"\u001b[39m\u001b[39mExcpetion\u001b[39m\u001b[39m\"\u001b[39m)\n\u001b[1;32m     <a href='vscode-notebook-cell://wsl%2Bubuntu/home/mnk/MNK/Mega/MegNav/Miscellaneous/Python/python_experts.ipynb#X63sdnNjb2RlLXJlbW90ZQ%3D%3D?line=9'>10</a>\u001b[0m sleep(\u001b[39m.2\u001b[39m)\n\u001b[1;32m     <a href='vscode-notebook-cell://wsl%2Bubuntu/home/mnk/MNK/Mega/MegNav/Miscellaneous/Python/python_experts.ipynb#X63sdnNjb2RlLXJlbW90ZQ%3D%3D?line=10'>11</a>\u001b[0m \u001b[39mreturn\u001b[39;00m rv\n",
      "\u001b[0;31mStopIteration\u001b[0m: Excpetion"
     ]
    }
   ],
   "source": [
    "class Compute:\n",
    "    def __iter__(self):\n",
    "        self.count = 0\n",
    "        return self\n",
    "    def __next__(self):\n",
    "        rv = self.count\n",
    "        self.count+=1\n",
    "        if self.count > 10:\n",
    "            raise StopIteration(\"Excpetion\")\n",
    "        sleep(.2)\n",
    "        return rv\n",
    "\n",
    "for val in Compute():\n",
    "    print(val)"
   ]
  },
  {
   "cell_type": "code",
   "execution_count": 38,
   "metadata": {},
   "outputs": [
    {
     "name": "stdout",
     "output_type": "stream",
     "text": [
      "0\n",
      "1\n",
      "2\n",
      "3\n",
      "4\n",
      "5\n",
      "6\n",
      "7\n",
      "8\n",
      "9\n"
     ]
    }
   ],
   "source": [
    "def compute():\n",
    "    for i in range(10):\n",
    "        sleep(.10)\n",
    "        yield i\n",
    "\n",
    "\n",
    "for i in compute():\n",
    "    print(i)"
   ]
  },
  {
   "cell_type": "markdown",
   "metadata": {},
   "source": [
    "**Formation of API Sequence**"
   ]
  },
  {
   "cell_type": "code",
   "execution_count": 39,
   "metadata": {},
   "outputs": [],
   "source": [
    "def first(): pass \n",
    "def second(): pass\n",
    "def third(): pass\n",
    "def api():\n",
    "    first()\n",
    "    yield\n",
    "    second()\n",
    "    yield\n",
    "    third()\n",
    "    yield"
   ]
  },
  {
   "cell_type": "code",
   "execution_count": 40,
   "metadata": {},
   "outputs": [
    {
     "name": "stdout",
     "output_type": "stream",
     "text": [
      "hello\n",
      "hello\n",
      "hello\n"
     ]
    }
   ],
   "source": [
    "for _ in api():\n",
    "    print(\"hello\")"
   ]
  },
  {
   "cell_type": "markdown",
   "metadata": {},
   "source": [
    "### **Context Manager**"
   ]
  },
  {
   "cell_type": "code",
   "execution_count": 43,
   "metadata": {},
   "outputs": [],
   "source": [
    "class TempTable:\n",
    "    def __init__(self, cur):\n",
    "        self.cur = cur\n",
    "    def __enter__(self, *args):\n",
    "        print(\"Enter\")\n",
    "        self.cur.execute('create table points (x int, y int)')\n",
    "    def __exit__(self, *args):\n",
    "        print(\"Exit\")\n",
    "        self.cur.execute(\"drop table points\")"
   ]
  },
  {
   "cell_type": "code",
   "execution_count": 44,
   "metadata": {},
   "outputs": [
    {
     "name": "stdout",
     "output_type": "stream",
     "text": [
      "Enter\n",
      "(1, 1)\n",
      "(1, 2)\n",
      "(2, 1)\n",
      "Exit\n"
     ]
    }
   ],
   "source": [
    "from sqlite3 import connect\n",
    "with connect('text.db') as conn:\n",
    "    cur = conn.cursor()\n",
    "    with TempTable(cur):\n",
    "        cur.execute(\"insert into points (x, y) values (1, 1)\")\n",
    "        cur.execute(\"insert into points (x, y) values (1, 2)\")\n",
    "        cur.execute(\"insert into points (x, y) values (2, 1)\")\n",
    "        for row in cur.execute(\"select x, y from points\"):\n",
    "            print(row)\n",
    "    "
   ]
  },
  {
   "cell_type": "markdown",
   "metadata": {},
   "source": [
    "### **All Together**"
   ]
  },
  {
   "cell_type": "code",
   "execution_count": 60,
   "metadata": {},
   "outputs": [],
   "source": [
    "class contextmanager:\n",
    "    def __init__(self, gen):\n",
    "        self.gen = gen\n",
    "    def __enter__(self):\n",
    "        self.gen_inst = self.gen(*self.args, **self.kwargs)\n",
    "        next(self.gen_inst)\n",
    "    def __exit__(self, *args):\n",
    "        next(self.gen_inst, None)\n",
    "    def __call__(self, *args, **kwargs):\n",
    "        self.args, self.kwargs = args, kwargs\n",
    "        return self\n",
    "\n",
    "@contextmanager # also : from curlib import contextmanager\n",
    "def temptable(cur):\n",
    "    cur.execute(\"create table points (x int, y int)\")\n",
    "    try:\n",
    "        yield\n",
    "    finally:\n",
    "        cur.execute(\"drop table points\")\n"
   ]
  },
  {
   "cell_type": "code",
   "execution_count": 61,
   "metadata": {},
   "outputs": [
    {
     "name": "stdout",
     "output_type": "stream",
     "text": [
      "(1, 1)\n",
      "(1, 2)\n",
      "(2, 1)\n"
     ]
    }
   ],
   "source": [
    "with connect('text.db') as conn:\n",
    "    cur = conn.cursor()\n",
    "    with temptable(cur):\n",
    "        cur.execute(\"insert into points (x, y) values (1, 1)\")\n",
    "        cur.execute(\"insert into points (x, y) values (1, 2)\")\n",
    "        cur.execute(\"insert into points (x, y) values (2, 1)\")\n",
    "        for row in cur.execute(\"select x, y from points\"):\n",
    "            print(row)"
   ]
  }
 ],
 "metadata": {
  "kernelspec": {
   "display_name": "Python 3.10.6 ('pytorch')",
   "language": "python",
   "name": "python3"
  },
  "language_info": {
   "codemirror_mode": {
    "name": "ipython",
    "version": 3
   },
   "file_extension": ".py",
   "mimetype": "text/x-python",
   "name": "python",
   "nbconvert_exporter": "python",
   "pygments_lexer": "ipython3",
   "version": "3.10.6"
  },
  "orig_nbformat": 4,
  "vscode": {
   "interpreter": {
    "hash": "6c8b17707a87e86f58fc8e0e03557a8732d4849cf558d6d13f0acd878e2598f6"
   }
  }
 },
 "nbformat": 4,
 "nbformat_minor": 2
}
