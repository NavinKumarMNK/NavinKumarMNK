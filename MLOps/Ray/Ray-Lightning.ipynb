{
 "cells": [
  {
   "cell_type": "markdown",
   "id": "d4607e55",
   "metadata": {},
   "source": [
    "# **Ray: Parallel & Distributed Computing**"
   ]
  },
  {
   "cell_type": "code",
   "execution_count": 6,
   "id": "99d14c18",
   "metadata": {},
   "outputs": [
    {
     "name": "stdout",
     "output_type": "stream",
     "text": [
      "The watermark extension is already loaded. To reload it, use:\n",
      "  %reload_ext watermark\n",
      "Author: NavinKumarMNK\n",
      "\n",
      "Last updated: 2023-02-12 15:31:25\n",
      "\n",
      "Python implementation: CPython\n",
      "Python version       : 3.10.8\n",
      "IPython version      : 8.8.0\n",
      "\n",
      "torch: 1.13.1\n",
      "\n",
      "Git hash: e3b1521eccb3351f0a46358daee37af31b62f403\n",
      "\n",
      "Git repo: https://github.com/NavinKumarMNK/MegNav.git\n",
      "\n"
     ]
    }
   ],
   "source": [
    "%load_ext watermark\n",
    "%watermark -a 'NavinKumarMNK' -d -t -g -r -u -v -p pytorch_lightning -p torch"
   ]
  },
  {
   "cell_type": "markdown",
   "id": "cfbb6439",
   "metadata": {},
   "source": [
    "## **Ray Lightning**"
   ]
  },
  {
   "cell_type": "code",
   "execution_count": 15,
   "id": "6c8aef8b",
   "metadata": {},
   "outputs": [],
   "source": [
    "import pytorch_lightning as pl\n",
    "from ray_lightning import RayStrategy # DDP"
   ]
  },
  {
   "cell_type": "code",
   "execution_count": 16,
   "id": "91012cdd",
   "metadata": {},
   "outputs": [],
   "source": [
    "strategy = RayStrategy(num_workers=4, num_cpus_per_worker=1, use_gpu=True)"
   ]
  },
  {
   "cell_type": "code",
   "execution_count": 17,
   "id": "b8babafe",
   "metadata": {},
   "outputs": [
    {
     "ename": "NameError",
     "evalue": "name 'MNISTClassifier' is not defined",
     "output_type": "error",
     "traceback": [
      "\u001b[0;31m---------------------------------------------------------------------------\u001b[0m",
      "\u001b[0;31mNameError\u001b[0m                                 Traceback (most recent call last)",
      "Cell \u001b[0;32mIn[17], line 1\u001b[0m\n\u001b[0;32m----> 1\u001b[0m ptl_model \u001b[38;5;241m=\u001b[39m \u001b[43mMNISTClassifier\u001b[49m(\u001b[38;5;241m.\u001b[39m\u001b[38;5;241m.\u001b[39m\u001b[38;5;241m.\u001b[39m)\n\u001b[1;32m      2\u001b[0m trainer \u001b[38;5;241m=\u001b[39m pl\u001b[38;5;241m.\u001b[39mTrainer(\u001b[38;5;241m.\u001b[39m\u001b[38;5;241m.\u001b[39m\u001b[38;5;241m.\u001b[39m, strategy\u001b[38;5;241m=\u001b[39mstrategy)\n\u001b[1;32m      3\u001b[0m trainer\u001b[38;5;241m.\u001b[39mfit(ptl_model)\n",
      "\u001b[0;31mNameError\u001b[0m: name 'MNISTClassifier' is not defined"
     ]
    }
   ],
   "source": [
    "ptl_model = MNISTClassifier(...)\n",
    "trainer = pl.Trainer(..., strategy=strategy)\n",
    "trainer.fit(ptl_model)"
   ]
  },
  {
   "cell_type": "code",
   "execution_count": 19,
   "id": "e5140e00",
   "metadata": {},
   "outputs": [
    {
     "name": "stdout",
     "output_type": "stream",
     "text": [
      "<ray.tune.search.sample.Categorical object at 0x7f7308d74b80>\n"
     ]
    }
   ],
   "source": [
    "import ray.tune as tune\n",
    "print(tune.choice([16, 32, 64]))"
   ]
  },
  {
   "cell_type": "code",
   "execution_count": 20,
   "id": "9d185578",
   "metadata": {},
   "outputs": [],
   "source": [
    "from ray import air, tune\n",
    "from ray_lightning import RayStrategy\n",
    "from ray_lightning.tune import TuneReportCallback\n"
   ]
  },
  {
   "cell_type": "code",
   "execution_count": 21,
   "id": "03f8cf17",
   "metadata": {},
   "outputs": [],
   "source": [
    "def train_mnist(config):\n",
    "    model = MNISTClassifier(config)\n",
    "    metrics = {\"loss\": \"ptl/val_loss\", \"acc\": \"ptl/val_accuracy\"}\n",
    "    callbacks = [TuneReportCallback(metrics, on=\"validation_end\")]\n",
    "\n",
    "    trainer = pl.Trainer(\n",
    "        max_epochs=4,\n",
    "        callbacks=callbacks,\n",
    "        plugins=[RayStrategy(num_workers=4, use_gpu=False)])\n",
    "    trainer.fit(model)"
   ]
  },
  {
   "cell_type": "code",
   "execution_count": 22,
   "id": "606f8e2e",
   "metadata": {},
   "outputs": [],
   "source": [
    "config = {\n",
    "    \"layer_1\": tune.choice([32, 64, 128]),\n",
    "    \"layer_2\": tune.choice([64, 128, 256]),\n",
    "    \"lr\": tune.loguniform(1e-4, 1e-1),\n",
    "    \"batch_size\": tune.choice([32, 64, 128]),\n",
    "}"
   ]
  },
  {
   "cell_type": "code",
   "execution_count": 25,
   "id": "7b101f8a",
   "metadata": {},
   "outputs": [],
   "source": [
    "tuner = tune.Tuner(\n",
    "    tune.with_resources(train_mnist, {\"cpu\": 1, \"extra_cpu\": 4}),\n",
    "    tune_config=tune.TuneConfig(\n",
    "        metric=\"loss\",\n",
    "        mode=\"min\",\n",
    "        num_samples=32,\n",
    "    ),\n",
    "    param_space=config\n",
    ")\n"
   ]
  },
  {
   "cell_type": "code",
   "execution_count": null,
   "id": "2866b855",
   "metadata": {},
   "outputs": [],
   "source": [
    "results = tuner.fit()\n",
    "print(\"Best hyperparameters found were: \", results.get_best_result().config)"
   ]
  },
  {
   "cell_type": "code",
   "execution_count": null,
   "id": "9ed4c36f",
   "metadata": {},
   "outputs": [],
   "source": []
  }
 ],
 "metadata": {
  "kernelspec": {
   "display_name": "Python 3 (ipykernel)",
   "language": "python",
   "name": "python3"
  },
  "language_info": {
   "codemirror_mode": {
    "name": "ipython",
    "version": 3
   },
   "file_extension": ".py",
   "mimetype": "text/x-python",
   "name": "python",
   "nbconvert_exporter": "python",
   "pygments_lexer": "ipython3",
   "version": "3.10.8"
  }
 },
 "nbformat": 4,
 "nbformat_minor": 5
}
